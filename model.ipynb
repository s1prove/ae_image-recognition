{
 "cells": [
  {
   "cell_type": "code",
   "execution_count": null,
   "metadata": {},
   "outputs": [],
   "source": [
    "import numpy as np\n",
    "import tensorflow as tf\n",
    "from tensorflow.keras import layers, models\n",
    "from tensorflow.keras.datasets import cifar100\n",
    "from sklearn.model_selection import train_test_split\n",
    "\n",
    "(x_train, _), (x_test, _) = cifar100.load_data()\n",
    "x_train = x_train.astype('float32') / 255.\n",
    "x_test = x_test.astype('float32') / 255.\n",
    "\n",
    "x_train, x_test = train_test_split(x_train, test_size=0.1, random_state=42)\n",
    "\n",
    "\n",
    "input_img = layers.Input(shape=(32, 32, 3))\n",
    "\n",
    "\n",
    "encoder = layers.Conv2D(64, (3, 3), activation='relu', padding='same')(input_img)\n",
    "encoder = layers.MaxPooling2D((2, 2), padding='same')(encoder)\n",
    "encoder = layers.BatchNormalization()(encoder)\n",
    "encoder = layers.Conv2D(128, (3, 3), activation='relu', padding='same')(encoder)\n",
    "encoder = layers.MaxPooling2D((2, 2), padding='same')(encoder)\n",
    "encoder = layers.BatchNormalization()(encoder)\n",
    "\n",
    "\n",
    "decoder = layers.Conv2D(128, (3, 3), activation='relu', padding='same')(encoder)\n",
    "decoder = layers.UpSampling2D((2, 2))(decoder)\n",
    "decoder = layers.BatchNormalization()(decoder)\n",
    "decoder = layers.Conv2D(64, (3, 3), activation='relu', padding='same')(decoder)\n",
    "decoder = layers.UpSampling2D((2, 2))(decoder)\n",
    "decoder = layers.BatchNormalization()(decoder)\n",
    "decoder = layers.Conv2D(3, (3, 3), activation='sigmoid', padding='same')(decoder)\n",
    "\n",
    "\n",
    "autoencoder = models.Model(input_img, decoder)\n",
    "autoencoder.compile(optimizer='adam', loss='binary_crossentropy', metrics='accuracy')\n",
    "\n",
    "autoencoder.summary()\n",
    "\n",
    "\n",
    "history = autoencoder.fit(x_train, x_train,\n",
    "                epochs=25,\n",
    "                batch_size=128,\n",
    "                shuffle=True,\n",
    "                validation_data=(x_test, x_test))"
   ]
  }
 ],
 "metadata": {
  "language_info": {
   "name": "python"
  }
 },
 "nbformat": 4,
 "nbformat_minor": 2
}
